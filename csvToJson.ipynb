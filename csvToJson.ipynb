{
 "cells": [
  {
   "cell_type": "code",
   "execution_count": 2,
   "id": "3acd0406",
   "metadata": {},
   "outputs": [],
   "source": [
    "import pandas as pd\n",
    "import ast\n",
    "\n",
    "# Đọc dữ liệu từ CSV\n",
    "df = pd.read_csv(\"data/movies_2010_2024.csv\")\n",
    "\n",
    "# Chuyển các cột dạng chuỗi danh sách (list dạng chuỗi) sang dạng list thực sự\n",
    "df['genres'] = df['genres'].apply(lambda x: ast.literal_eval(x) if pd.notnull(x) else [])\n",
    "df['production_companies'] = df['production_companies'].apply(lambda x: ast.literal_eval(x) if pd.notnull(x) else [])\n",
    "df['cast'] = df['cast'].apply(lambda x: ast.literal_eval(x) if pd.notnull(x) else [])\n",
    "df['crew'] = df['crew'].apply(lambda x: ast.literal_eval(x) if pd.notnull(x) else [])\n",
    "\n",
    "# Lưu toàn bộ dữ liệu thành file JSON\n",
    "df.to_json(\"movies.json\", orient=\"records\", force_ascii=False, indent=2)\n"
   ]
  },
  {
   "cell_type": "code",
   "execution_count": 2,
   "id": "f30eeb08",
   "metadata": {},
   "outputs": [
    {
     "name": "stdout",
     "output_type": "stream",
     "text": [
      "Đã lọc 3062 phim có doanh thu >= 100,000 đô.\n"
     ]
    }
   ],
   "source": [
    "import json\n",
    "\n",
    "# Đọc file JSON đầu vào\n",
    "with open('data/movies.json', 'r', encoding='utf-8') as f:\n",
    "    movies = json.load(f)\n",
    "\n",
    "# Lọc các phim có doanh thu >= 100,000 đô\n",
    "filtered_movies = [movie for movie in movies if movie.get('revenue', 0) >= 100000]\n",
    "\n",
    "# Ghi danh sách phim đã lọc vào file mới\n",
    "with open('filtered_movies.json', 'w', encoding='utf-8') as f:\n",
    "    json.dump(filtered_movies, f, indent=2, ensure_ascii=False)\n",
    "\n",
    "print(f\"Đã lọc {len(filtered_movies)} phim có doanh thu >= 100,000 đô.\")\n"
   ]
  }
 ],
 "metadata": {
  "kernelspec": {
   "display_name": "Python 3",
   "language": "python",
   "name": "python3"
  },
  "language_info": {
   "codemirror_mode": {
    "name": "ipython",
    "version": 3
   },
   "file_extension": ".py",
   "mimetype": "text/x-python",
   "name": "python",
   "nbconvert_exporter": "python",
   "pygments_lexer": "ipython3",
   "version": "3.13.2"
  }
 },
 "nbformat": 4,
 "nbformat_minor": 5
}
